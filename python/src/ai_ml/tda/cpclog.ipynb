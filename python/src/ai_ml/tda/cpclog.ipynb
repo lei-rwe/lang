{
 "cells": [
  {
   "cell_type": "code",
   "execution_count": 1,
   "metadata": {},
   "outputs": [],
   "source": [
    "from datetime import datetime\n",
    "import numpy as np\n",
    "import pandas as pd\n",
    "import matplotlib.pyplot as plt\n",
    "import seaborn as sns"
   ]
  },
  {
   "cell_type": "code",
   "execution_count": 2,
   "metadata": {},
   "outputs": [],
   "source": [
    "%matplotlib inline"
   ]
  },
  {
   "cell_type": "code",
   "execution_count": 3,
   "metadata": {},
   "outputs": [
    {
     "data": {
      "text/plain": [
       "'/Users/zha970/Documents/data'"
      ]
     },
     "execution_count": 3,
     "metadata": {},
     "output_type": "execute_result"
    }
   ],
   "source": [
    "pwd"
   ]
  },
  {
   "cell_type": "code",
   "execution_count": 4,
   "metadata": {},
   "outputs": [],
   "source": [
    "dflog = pd.read_csv('cpc_tx01_1213_log.csv')"
   ]
  },
  {
   "cell_type": "code",
   "execution_count": 5,
   "metadata": {},
   "outputs": [
    {
     "data": {
      "text/html": [
       "<div>\n",
       "<style scoped>\n",
       "    .dataframe tbody tr th:only-of-type {\n",
       "        vertical-align: middle;\n",
       "    }\n",
       "\n",
       "    .dataframe tbody tr th {\n",
       "        vertical-align: top;\n",
       "    }\n",
       "\n",
       "    .dataframe thead th {\n",
       "        text-align: right;\n",
       "    }\n",
       "</style>\n",
       "<table border=\"1\" class=\"dataframe\">\n",
       "  <thead>\n",
       "    <tr style=\"text-align: right;\">\n",
       "      <th></th>\n",
       "      <th>timestamp</th>\n",
       "      <th>method</th>\n",
       "      <th>url</th>\n",
       "      <th>httpcode</th>\n",
       "      <th>timeused</th>\n",
       "      <th>ip</th>\n",
       "    </tr>\n",
       "  </thead>\n",
       "  <tbody>\n",
       "    <tr>\n",
       "      <th>0</th>\n",
       "      <td>13/Dec/2018:04:00:00</td>\n",
       "      <td>GET</td>\n",
       "      <td>communication-preferences</td>\n",
       "      <td>200</td>\n",
       "      <td>34</td>\n",
       "      <td>10.154.6.4</td>\n",
       "    </tr>\n",
       "    <tr>\n",
       "      <th>1</th>\n",
       "      <td>13/Dec/2018:04:00:04</td>\n",
       "      <td>GET</td>\n",
       "      <td>communication-preferences</td>\n",
       "      <td>200</td>\n",
       "      <td>33</td>\n",
       "      <td>10.154.6.4</td>\n",
       "    </tr>\n",
       "    <tr>\n",
       "      <th>2</th>\n",
       "      <td>13/Dec/2018:04:00:05</td>\n",
       "      <td>GET</td>\n",
       "      <td>communication-preferences</td>\n",
       "      <td>200</td>\n",
       "      <td>39</td>\n",
       "      <td>10.154.6.4</td>\n",
       "    </tr>\n",
       "    <tr>\n",
       "      <th>3</th>\n",
       "      <td>13/Dec/2018:04:00:07</td>\n",
       "      <td>GET</td>\n",
       "      <td>communication-preferences</td>\n",
       "      <td>200</td>\n",
       "      <td>50</td>\n",
       "      <td>10.154.6.4</td>\n",
       "    </tr>\n",
       "    <tr>\n",
       "      <th>4</th>\n",
       "      <td>13/Dec/2018:04:00:08</td>\n",
       "      <td>GET</td>\n",
       "      <td>communication-preferences</td>\n",
       "      <td>200</td>\n",
       "      <td>37</td>\n",
       "      <td>10.154.6.4</td>\n",
       "    </tr>\n",
       "  </tbody>\n",
       "</table>\n",
       "</div>"
      ],
      "text/plain": [
       "              timestamp method                        url  httpcode  timeused  \\\n",
       "0  13/Dec/2018:04:00:00    GET  communication-preferences       200        34   \n",
       "1  13/Dec/2018:04:00:04    GET  communication-preferences       200        33   \n",
       "2  13/Dec/2018:04:00:05    GET  communication-preferences       200        39   \n",
       "3  13/Dec/2018:04:00:07    GET  communication-preferences       200        50   \n",
       "4  13/Dec/2018:04:00:08    GET  communication-preferences       200        37   \n",
       "\n",
       "           ip  \n",
       "0  10.154.6.4  \n",
       "1  10.154.6.4  \n",
       "2  10.154.6.4  \n",
       "3  10.154.6.4  \n",
       "4  10.154.6.4  "
      ]
     },
     "execution_count": 5,
     "metadata": {},
     "output_type": "execute_result"
    }
   ],
   "source": [
    "dflog.head()"
   ]
  },
  {
   "cell_type": "code",
   "execution_count": 6,
   "metadata": {},
   "outputs": [],
   "source": [
    "dflog['timestamp'] = pd.to_datetime(dflog['timestamp'], format='%d/%b/%Y:%H:%M:%S')"
   ]
  },
  {
   "cell_type": "code",
   "execution_count": 7,
   "metadata": {},
   "outputs": [],
   "source": [
    "dflog.httpcode = dflog.httpcode.astype(str)"
   ]
  },
  {
   "cell_type": "code",
   "execution_count": 8,
   "metadata": {},
   "outputs": [],
   "source": [
    "dflog.drop(['ip'], axis=1, inplace=True)\n",
    "dflog.set_index('timestamp', inplace=True)\n",
    "dflog.sort_index(inplace=True)"
   ]
  },
  {
   "cell_type": "code",
   "execution_count": 9,
   "metadata": {},
   "outputs": [
    {
     "data": {
      "text/plain": [
       "GET     566070\n",
       "POST      5996\n",
       "PUT       1497\n",
       "Name: method, dtype: int64"
      ]
     },
     "execution_count": 9,
     "metadata": {},
     "output_type": "execute_result"
    }
   ],
   "source": [
    "dflog['method'].value_counts()"
   ]
  },
  {
   "cell_type": "code",
   "execution_count": 10,
   "metadata": {},
   "outputs": [],
   "source": [
    "ms = dflog['timeused']"
   ]
  },
  {
   "cell_type": "code",
   "execution_count": 11,
   "metadata": {},
   "outputs": [
    {
     "data": {
      "text/plain": [
       "<matplotlib.axes._subplots.AxesSubplot at 0x1a2a261358>"
      ]
     },
     "execution_count": 11,
     "metadata": {},
     "output_type": "execute_result"
    },
    {
     "data": {
      "image/png": "[encoded data removed]",
      "text/plain": [
       "<Figure size 1440x360 with 1 Axes>"
      ]
     },
     "metadata": {
      "needs_background": "light"
     },
     "output_type": "display_data"
    }
   ],
   "source": [
    "ms.rolling(12).mean().plot(figsize=[20, 5])"
   ]
  },
  {
   "cell_type": "code",
   "execution_count": 12,
   "metadata": {},
   "outputs": [
    {
     "data": {
      "text/plain": [
       "<matplotlib.axes._subplots.AxesSubplot at 0x1a312ac470>"
      ]
     },
     "execution_count": 12,
     "metadata": {},
     "output_type": "execute_result"
    },
    {
     "data": {
      "image/png": "[encoded data removed]",
      "text/plain": [
       "<Figure size 1440x360 with 1 Axes>"
      ]
     },
     "metadata": {
      "needs_background": "light"
     },
     "output_type": "display_data"
    }
   ],
   "source": [
    "ms.cumsum().plot(kind='area', figsize=[20, 5])"
   ]
  },
  {
   "cell_type": "code",
   "execution_count": 13,
   "metadata": {},
   "outputs": [
    {
     "data": {
      "text/plain": [
       "<matplotlib.axes._subplots.AxesSubplot at 0x1a2c9e4390>"
      ]
     },
     "execution_count": 13,
     "metadata": {},
     "output_type": "execute_result"
    },
    {
     "data": {
      "image/png": "[encoded data removed]",
      "text/plain": [
       "<Figure size 1440x360 with 1 Axes>"
      ]
     },
     "metadata": {
      "needs_background": "light"
     },
     "output_type": "display_data"
    }
   ],
   "source": [
    "dflog.groupby([dflog.index.hour, 'method'])['url'].count().plot(kind='bar', figsize=[20, 5])"
   ]
  },
  {
   "cell_type": "code",
   "execution_count": 14,
   "metadata": {},
   "outputs": [
    {
     "data": {
      "text/plain": [
       "<matplotlib.axes._subplots.AxesSubplot at 0x1a2ca53cf8>"
      ]
     },
     "execution_count": 14,
     "metadata": {},
     "output_type": "execute_result"
    },
    {
     "data": {
      "image/png": "[encoded data removed]",
      "text/plain": [
       "<Figure size 1440x360 with 1 Axes>"
      ]
     },
     "metadata": {
      "needs_background": "light"
     },
     "output_type": "display_data"
    }
   ],
   "source": [
    "grphr = dflog.groupby(dflog.index.hour)\n",
    "grphr.mean().plot(figsize=[20, 5])"
   ]
  },
  {
   "cell_type": "code",
   "execution_count": 15,
   "metadata": {},
   "outputs": [
    {
     "data": {
      "text/plain": [
       "<matplotlib.axes._subplots.AxesSubplot at 0x1a31c7a438>"
      ]
     },
     "execution_count": 15,
     "metadata": {},
     "output_type": "execute_result"
    },
    {
     "data": {
      "image/png": "[encoded data removed]",
      "text/plain": [
       "<Figure size 1440x360 with 1 Axes>"
      ]
     },
     "metadata": {
      "needs_background": "light"
     },
     "output_type": "display_data"
    }
   ],
   "source": [
    "grphr.count()['url'].plot(figsize=[20, 5])"
   ]
  },
  {
   "cell_type": "code",
   "execution_count": 16,
   "metadata": {},
   "outputs": [
    {
     "data": {
      "text/plain": [
       "'/Users/zha970/Documents/data'"
      ]
     },
     "execution_count": 16,
     "metadata": {},
     "output_type": "execute_result"
    }
   ],
   "source": [
    "pwd"
   ]
  },
  {
   "cell_type": "code",
   "execution_count": 17,
   "metadata": {},
   "outputs": [
    {
     "name": "stdout",
     "output_type": "stream",
     "text": [
      "-rw-r--r--  1 zha970  419502728  74485716 Dec 24 22:39 20181220.daily_perf.csv\r\n",
      "-rw-r--r--  1 zha970  419502728  44414928 Dec 24 22:38 20181221.daily_perf.csv\r\n",
      "-rw-r--r--  1 zha970  419502728  29077362 Dec 24 22:38 20181222.daily_perf.csv\r\n",
      "-rw-r--r--  1 zha970  419502728   5969172 Dec 24 22:37 20181223.daily_perf.csv\r\n",
      "-rw-r--r--  1 zha970  419502728  39183225 Dec 24 16:36 cpc_tx01_1213_log.csv\r\n"
     ]
    }
   ],
   "source": [
    "ls -l *.csv"
   ]
  },
  {
   "cell_type": "code",
   "execution_count": 18,
   "metadata": {},
   "outputs": [
    {
     "data": {
      "text/plain": [
       "datetime.datetime(2018, 12, 20, 0, 10, 50)"
      ]
     },
     "execution_count": 18,
     "metadata": {},
     "output_type": "execute_result"
    }
   ],
   "source": [
    "datetime.strptime('20/Dec/2018:00:10:50', '%d/%b/%Y:%H:%M:%S')"
   ]
  },
  {
   "cell_type": "code",
   "execution_count": 19,
   "metadata": {},
   "outputs": [],
   "source": [
    "dperf1220 = pd.read_csv('20181220.daily_perf.csv', index_col = 'timestamp',\n",
    "                        names=['timestamp', 'method', 'url', 'httpcode', 'timeused'],\n",
    "                        header = None,\n",
    "                        parse_dates=True,\n",
    "                        date_parser = lambda x: datetime.strptime(x, '%d/%b/%Y:%H:%M:%S'))\n",
    "dperf1221 = pd.read_csv('20181221.daily_perf.csv', index_col = 'timestamp',\n",
    "                        names=['timestamp', 'method', 'url', 'httpcode', 'timeused'],\n",
    "                        header = None,\n",
    "                        parse_dates=True,\n",
    "                        date_parser = lambda x: datetime.strptime(x, '%d/%b/%Y:%H:%M:%S'))\n",
    "dperf1222 = pd.read_csv('20181222.daily_perf.csv', index_col = 'timestamp',\n",
    "                        names=['timestamp', 'method', 'url', 'httpcode', 'timeused'],\n",
    "                        header = None,\n",
    "                        parse_dates=True,\n",
    "                        date_parser = lambda x: datetime.strptime(x, '%d/%b/%Y:%H:%M:%S'))\n",
    "dperf1223 = pd.read_csv('20181223.daily_perf.csv', index_col = 'timestamp',\n",
    "                        names=['timestamp', 'method', 'url', 'httpcode', 'timeused'],\n",
    "                        header = None,\n",
    "                        parse_dates=True,\n",
    "                        date_parser = lambda x: datetime.strptime(x, '%d/%b/%Y:%H:%M:%S'))\n"
   ]
  },
  {
   "cell_type": "code",
   "execution_count": 20,
   "metadata": {},
   "outputs": [
    {
     "data": {
      "text/plain": [
       "(pandas.core.indexes.datetimes.DatetimeIndex, pandas.core.series.Series)"
      ]
     },
     "execution_count": 20,
     "metadata": {},
     "output_type": "execute_result"
    }
   ],
   "source": [
    "type(dperf1223.index), type(dperf1223.httpcode)"
   ]
  },
  {
   "cell_type": "code",
   "execution_count": 21,
   "metadata": {
    "scrolled": true
   },
   "outputs": [
    {
     "data": {
      "text/html": [
       "<div>\n",
       "<style scoped>\n",
       "    .dataframe tbody tr th:only-of-type {\n",
       "        vertical-align: middle;\n",
       "    }\n",
       "\n",
       "    .dataframe tbody tr th {\n",
       "        vertical-align: top;\n",
       "    }\n",
       "\n",
       "    .dataframe thead th {\n",
       "        text-align: right;\n",
       "    }\n",
       "</style>\n",
       "<table border=\"1\" class=\"dataframe\">\n",
       "  <thead>\n",
       "    <tr style=\"text-align: right;\">\n",
       "      <th></th>\n",
       "      <th>httpcode</th>\n",
       "      <th>timeused</th>\n",
       "    </tr>\n",
       "  </thead>\n",
       "  <tbody>\n",
       "    <tr>\n",
       "      <th>count</th>\n",
       "      <td>1.293600e+06</td>\n",
       "      <td>1.293600e+06</td>\n",
       "    </tr>\n",
       "    <tr>\n",
       "      <th>mean</th>\n",
       "      <td>2.021737e+02</td>\n",
       "      <td>2.881806e+01</td>\n",
       "    </tr>\n",
       "    <tr>\n",
       "      <th>std</th>\n",
       "      <td>2.134952e+01</td>\n",
       "      <td>2.337171e+01</td>\n",
       "    </tr>\n",
       "    <tr>\n",
       "      <th>min</th>\n",
       "      <td>2.000000e+02</td>\n",
       "      <td>1.000000e+00</td>\n",
       "    </tr>\n",
       "    <tr>\n",
       "      <th>25%</th>\n",
       "      <td>2.000000e+02</td>\n",
       "      <td>2.500000e+01</td>\n",
       "    </tr>\n",
       "    <tr>\n",
       "      <th>50%</th>\n",
       "      <td>2.000000e+02</td>\n",
       "      <td>2.800000e+01</td>\n",
       "    </tr>\n",
       "    <tr>\n",
       "      <th>75%</th>\n",
       "      <td>2.000000e+02</td>\n",
       "      <td>3.300000e+01</td>\n",
       "    </tr>\n",
       "    <tr>\n",
       "      <th>max</th>\n",
       "      <td>5.000000e+02</td>\n",
       "      <td>8.885000e+03</td>\n",
       "    </tr>\n",
       "  </tbody>\n",
       "</table>\n",
       "</div>"
      ],
      "text/plain": [
       "           httpcode      timeused\n",
       "count  1.293600e+06  1.293600e+06\n",
       "mean   2.021737e+02  2.881806e+01\n",
       "std    2.134952e+01  2.337171e+01\n",
       "min    2.000000e+02  1.000000e+00\n",
       "25%    2.000000e+02  2.500000e+01\n",
       "50%    2.000000e+02  2.800000e+01\n",
       "75%    2.000000e+02  3.300000e+01\n",
       "max    5.000000e+02  8.885000e+03"
      ]
     },
     "execution_count": 21,
     "metadata": {},
     "output_type": "execute_result"
    }
   ],
   "source": [
    "dperf1220.describe()"
   ]
  },
  {
   "cell_type": "code",
   "execution_count": 22,
   "metadata": {},
   "outputs": [],
   "source": [
    "dperf1220['httpcode'] = dperf1220['httpcode'].astype(str)\n",
    "dperf1221['httpcode'] = dperf1221['httpcode'].astype(str)\n",
    "dperf1222['httpcode'] = dperf1222['httpcode'].astype(str)\n",
    "dperf1223['httpcode'] = dperf1223['httpcode'].astype(str)"
   ]
  },
  {
   "cell_type": "code",
   "execution_count": 23,
   "metadata": {},
   "outputs": [],
   "source": [
    "dp = pd.concat([dperf1220, dperf1221, dperf1222, dperf1223])"
   ]
  },
  {
   "cell_type": "code",
   "execution_count": 24,
   "metadata": {},
   "outputs": [
    {
     "data": {
      "text/plain": [
       "DatetimeIndex(['2018-12-20 00:00:00', '2018-12-20 00:00:00',\n",
       "               '2018-12-20 00:00:00', '2018-12-20 00:00:00',\n",
       "               '2018-12-20 00:00:01', '2018-12-20 00:00:01',\n",
       "               '2018-12-20 00:00:02', '2018-12-20 00:00:02',\n",
       "               '2018-12-20 00:00:02', '2018-12-20 00:00:03',\n",
       "               ...\n",
       "               '2018-12-23 23:59:56', '2018-12-23 23:59:56',\n",
       "               '2018-12-23 23:59:57', '2018-12-23 23:59:57',\n",
       "               '2018-12-23 23:59:57', '2018-12-23 23:59:58',\n",
       "               '2018-12-23 23:59:58', '2018-12-23 23:59:59',\n",
       "               '2018-12-23 23:59:59', '2018-12-24 00:00:00'],\n",
       "              dtype='datetime64[ns]', name='timestamp', length=2674645, freq=None)"
      ]
     },
     "execution_count": 24,
     "metadata": {},
     "output_type": "execute_result"
    }
   ],
   "source": [
    "dp.index"
   ]
  },
  {
   "cell_type": "code",
   "execution_count": 25,
   "metadata": {},
   "outputs": [
    {
     "data": {
      "text/html": [
       "<div>\n",
       "<style scoped>\n",
       "    .dataframe tbody tr th:only-of-type {\n",
       "        vertical-align: middle;\n",
       "    }\n",
       "\n",
       "    .dataframe tbody tr th {\n",
       "        vertical-align: top;\n",
       "    }\n",
       "\n",
       "    .dataframe thead th {\n",
       "        text-align: right;\n",
       "    }\n",
       "</style>\n",
       "<table border=\"1\" class=\"dataframe\">\n",
       "  <thead>\n",
       "    <tr style=\"text-align: right;\">\n",
       "      <th></th>\n",
       "      <th>timeused</th>\n",
       "    </tr>\n",
       "  </thead>\n",
       "  <tbody>\n",
       "    <tr>\n",
       "      <th>count</th>\n",
       "      <td>2.674645e+06</td>\n",
       "    </tr>\n",
       "    <tr>\n",
       "      <th>mean</th>\n",
       "      <td>4.659443e+01</td>\n",
       "    </tr>\n",
       "    <tr>\n",
       "      <th>std</th>\n",
       "      <td>6.625172e+02</td>\n",
       "    </tr>\n",
       "    <tr>\n",
       "      <th>min</th>\n",
       "      <td>1.000000e+00</td>\n",
       "    </tr>\n",
       "    <tr>\n",
       "      <th>25%</th>\n",
       "      <td>2.600000e+01</td>\n",
       "    </tr>\n",
       "    <tr>\n",
       "      <th>50%</th>\n",
       "      <td>2.900000e+01</td>\n",
       "    </tr>\n",
       "    <tr>\n",
       "      <th>75%</th>\n",
       "      <td>3.400000e+01</td>\n",
       "    </tr>\n",
       "    <tr>\n",
       "      <th>max</th>\n",
       "      <td>3.992500e+04</td>\n",
       "    </tr>\n",
       "  </tbody>\n",
       "</table>\n",
       "</div>"
      ],
      "text/plain": [
       "           timeused\n",
       "count  2.674645e+06\n",
       "mean   4.659443e+01\n",
       "std    6.625172e+02\n",
       "min    1.000000e+00\n",
       "25%    2.600000e+01\n",
       "50%    2.900000e+01\n",
       "75%    3.400000e+01\n",
       "max    3.992500e+04"
      ]
     },
     "execution_count": 25,
     "metadata": {},
     "output_type": "execute_result"
    }
   ],
   "source": [
    "dp.describe()"
   ]
  },
  {
   "cell_type": "code",
   "execution_count": 26,
   "metadata": {},
   "outputs": [
    {
     "data": {
      "text/html": [
       "<div>\n",
       "<style scoped>\n",
       "    .dataframe tbody tr th:only-of-type {\n",
       "        vertical-align: middle;\n",
       "    }\n",
       "\n",
       "    .dataframe tbody tr th {\n",
       "        vertical-align: top;\n",
       "    }\n",
       "\n",
       "    .dataframe thead th {\n",
       "        text-align: right;\n",
       "    }\n",
       "</style>\n",
       "<table border=\"1\" class=\"dataframe\">\n",
       "  <thead>\n",
       "    <tr style=\"text-align: right;\">\n",
       "      <th></th>\n",
       "      <th>method</th>\n",
       "      <th>url</th>\n",
       "      <th>httpcode</th>\n",
       "      <th>timeused</th>\n",
       "    </tr>\n",
       "    <tr>\n",
       "      <th>timestamp</th>\n",
       "      <th></th>\n",
       "      <th></th>\n",
       "      <th></th>\n",
       "      <th></th>\n",
       "    </tr>\n",
       "  </thead>\n",
       "  <tbody>\n",
       "    <tr>\n",
       "      <th>2018-12-20 00:00:00</th>\n",
       "      <td>GET</td>\n",
       "      <td>communication-preferences</td>\n",
       "      <td>200</td>\n",
       "      <td>66</td>\n",
       "    </tr>\n",
       "    <tr>\n",
       "      <th>2018-12-20 00:00:00</th>\n",
       "      <td>GET</td>\n",
       "      <td>communication-preferences</td>\n",
       "      <td>200</td>\n",
       "      <td>41</td>\n",
       "    </tr>\n",
       "    <tr>\n",
       "      <th>2018-12-20 00:00:00</th>\n",
       "      <td>GET</td>\n",
       "      <td>communication-preferences</td>\n",
       "      <td>200</td>\n",
       "      <td>30</td>\n",
       "    </tr>\n",
       "    <tr>\n",
       "      <th>2018-12-20 00:00:00</th>\n",
       "      <td>GET</td>\n",
       "      <td>communication-preferences</td>\n",
       "      <td>200</td>\n",
       "      <td>41</td>\n",
       "    </tr>\n",
       "    <tr>\n",
       "      <th>2018-12-20 00:00:01</th>\n",
       "      <td>GET</td>\n",
       "      <td>communication-preferences</td>\n",
       "      <td>200</td>\n",
       "      <td>38</td>\n",
       "    </tr>\n",
       "  </tbody>\n",
       "</table>\n",
       "</div>"
      ],
      "text/plain": [
       "                    method                        url httpcode  timeused\n",
       "timestamp                                                               \n",
       "2018-12-20 00:00:00    GET  communication-preferences      200        66\n",
       "2018-12-20 00:00:00    GET  communication-preferences      200        41\n",
       "2018-12-20 00:00:00    GET  communication-preferences      200        30\n",
       "2018-12-20 00:00:00    GET  communication-preferences      200        41\n",
       "2018-12-20 00:00:01    GET  communication-preferences      200        38"
      ]
     },
     "execution_count": 26,
     "metadata": {},
     "output_type": "execute_result"
    }
   ],
   "source": [
    "dp.head()"
   ]
  },
  {
   "cell_type": "code",
   "execution_count": 27,
   "metadata": {
    "scrolled": true
   },
   "outputs": [
    {
     "data": {
      "text/plain": [
       "<matplotlib.axes._subplots.AxesSubplot at 0x1a4b84c668>"
      ]
     },
     "execution_count": 27,
     "metadata": {},
     "output_type": "execute_result"
    },
    {
     "data": {
      "image/png": "[encoded data removed]",
      "text/plain": [
       "<Figure size 1440x360 with 1 Axes>"
      ]
     },
     "metadata": {
      "needs_background": "light"
     },
     "output_type": "display_data"
    }
   ],
   "source": [
    "dp['timeused'].rolling(12).mean().plot(figsize=[20, 5])"
   ]
  },
  {
   "cell_type": "code",
   "execution_count": 28,
   "metadata": {},
   "outputs": [
    {
     "data": {
      "text/plain": [
       "<matplotlib.axes._subplots.AxesSubplot at 0x1a31c92978>"
      ]
     },
     "execution_count": 28,
     "metadata": {},
     "output_type": "execute_result"
    },
    {
     "data": {
      "image/png": "[encoded data removed]",
      "text/plain": [
       "<Figure size 1440x360 with 1 Axes>"
      ]
     },
     "metadata": {
      "needs_background": "light"
     },
     "output_type": "display_data"
    }
   ],
   "source": [
    "dphr = dp.groupby(dp.index.hour)\n",
    "dphr.mean().plot(figsize=[20, 5])"
   ]
  },
  {
   "cell_type": "code",
   "execution_count": 29,
   "metadata": {},
   "outputs": [
    {
     "data": {
      "text/plain": [
       "DatetimeIndex(['2018-12-20 00:00:00', '2018-12-20 00:00:00',\n",
       "               '2018-12-20 00:00:00', '2018-12-20 00:00:00',\n",
       "               '2018-12-20 00:00:01', '2018-12-20 00:00:01',\n",
       "               '2018-12-20 00:00:02', '2018-12-20 00:00:02',\n",
       "               '2018-12-20 00:00:02', '2018-12-20 00:00:03',\n",
       "               ...\n",
       "               '2018-12-23 23:59:56', '2018-12-23 23:59:56',\n",
       "               '2018-12-23 23:59:57', '2018-12-23 23:59:57',\n",
       "               '2018-12-23 23:59:57', '2018-12-23 23:59:58',\n",
       "               '2018-12-23 23:59:58', '2018-12-23 23:59:59',\n",
       "               '2018-12-23 23:59:59', '2018-12-24 00:00:00'],\n",
       "              dtype='datetime64[ns]', name='timestamp', length=2674645, freq=None)"
      ]
     },
     "execution_count": 29,
     "metadata": {},
     "output_type": "execute_result"
    }
   ],
   "source": [
    "dp.index"
   ]
  },
  {
   "cell_type": "code",
   "execution_count": 30,
   "metadata": {},
   "outputs": [],
   "source": [
    "sns.set()"
   ]
  },
  {
   "cell_type": "code",
   "execution_count": 31,
   "metadata": {},
   "outputs": [
    {
     "name": "stdout",
     "output_type": "stream",
     "text": [
      "<class 'pandas.core.frame.DataFrame'>\n",
      "DatetimeIndex: 2674645 entries, 2018-12-20 00:00:00 to 2018-12-24 00:00:00\n",
      "Data columns (total 4 columns):\n",
      "method      object\n",
      "url         object\n",
      "httpcode    object\n",
      "timeused    int64\n",
      "dtypes: int64(1), object(3)\n",
      "memory usage: 182.0+ MB\n"
     ]
    }
   ],
   "source": [
    "dp.info()"
   ]
  },
  {
   "cell_type": "code",
   "execution_count": 32,
   "metadata": {},
   "outputs": [
    {
     "data": {
      "text/plain": [
       "DatetimeIndex(['2018-12-20 00:00:00', '2018-12-20 00:00:00',\n",
       "               '2018-12-20 00:00:00', '2018-12-20 00:00:00',\n",
       "               '2018-12-20 00:00:01', '2018-12-20 00:00:01',\n",
       "               '2018-12-20 00:00:02', '2018-12-20 00:00:02',\n",
       "               '2018-12-20 00:00:02', '2018-12-20 00:00:03',\n",
       "               ...\n",
       "               '2018-12-23 23:59:56', '2018-12-23 23:59:56',\n",
       "               '2018-12-23 23:59:57', '2018-12-23 23:59:57',\n",
       "               '2018-12-23 23:59:57', '2018-12-23 23:59:58',\n",
       "               '2018-12-23 23:59:58', '2018-12-23 23:59:59',\n",
       "               '2018-12-23 23:59:59', '2018-12-24 00:00:00'],\n",
       "              dtype='datetime64[ns]', name='timestamp', length=2674645, freq=None)"
      ]
     },
     "execution_count": 32,
     "metadata": {},
     "output_type": "execute_result"
    }
   ],
   "source": [
    "dp.index"
   ]
  },
  {
   "cell_type": "code",
   "execution_count": 37,
   "metadata": {},
   "outputs": [
    {
     "data": {
      "text/html": [
       "<div>\n",
       "<style scoped>\n",
       "    .dataframe tbody tr th:only-of-type {\n",
       "        vertical-align: middle;\n",
       "    }\n",
       "\n",
       "    .dataframe tbody tr th {\n",
       "        vertical-align: top;\n",
       "    }\n",
       "\n",
       "    .dataframe thead th {\n",
       "        text-align: right;\n",
       "    }\n",
       "</style>\n",
       "<table border=\"1\" class=\"dataframe\">\n",
       "  <thead>\n",
       "    <tr style=\"text-align: right;\">\n",
       "      <th></th>\n",
       "      <th>method</th>\n",
       "      <th>url</th>\n",
       "      <th>httpcode</th>\n",
       "      <th>timeused</th>\n",
       "    </tr>\n",
       "    <tr>\n",
       "      <th>timestamp</th>\n",
       "      <th></th>\n",
       "      <th></th>\n",
       "      <th></th>\n",
       "      <th></th>\n",
       "    </tr>\n",
       "  </thead>\n",
       "  <tbody>\n",
       "    <tr>\n",
       "      <th>2018-12-20 00:00:00</th>\n",
       "      <td>GET</td>\n",
       "      <td>communication-preferences</td>\n",
       "      <td>200</td>\n",
       "      <td>66</td>\n",
       "    </tr>\n",
       "    <tr>\n",
       "      <th>2018-12-20 00:00:00</th>\n",
       "      <td>GET</td>\n",
       "      <td>communication-preferences</td>\n",
       "      <td>200</td>\n",
       "      <td>41</td>\n",
       "    </tr>\n",
       "    <tr>\n",
       "      <th>2018-12-20 00:00:00</th>\n",
       "      <td>GET</td>\n",
       "      <td>communication-preferences</td>\n",
       "      <td>200</td>\n",
       "      <td>30</td>\n",
       "    </tr>\n",
       "    <tr>\n",
       "      <th>2018-12-20 00:00:00</th>\n",
       "      <td>GET</td>\n",
       "      <td>communication-preferences</td>\n",
       "      <td>200</td>\n",
       "      <td>41</td>\n",
       "    </tr>\n",
       "    <tr>\n",
       "      <th>2018-12-20 00:00:01</th>\n",
       "      <td>GET</td>\n",
       "      <td>communication-preferences</td>\n",
       "      <td>200</td>\n",
       "      <td>38</td>\n",
       "    </tr>\n",
       "  </tbody>\n",
       "</table>\n",
       "</div>"
      ],
      "text/plain": [
       "                    method                        url httpcode  timeused\n",
       "timestamp                                                               \n",
       "2018-12-20 00:00:00    GET  communication-preferences      200        66\n",
       "2018-12-20 00:00:00    GET  communication-preferences      200        41\n",
       "2018-12-20 00:00:00    GET  communication-preferences      200        30\n",
       "2018-12-20 00:00:00    GET  communication-preferences      200        41\n",
       "2018-12-20 00:00:01    GET  communication-preferences      200        38"
      ]
     },
     "execution_count": 37,
     "metadata": {},
     "output_type": "execute_result"
    }
   ],
   "source": [
    "dp.head()"
   ]
  },
  {
   "cell_type": "code",
   "execution_count": 54,
   "metadata": {},
   "outputs": [
    {
     "data": {
      "text/plain": [
       "<matplotlib.axes._subplots.AxesSubplot at 0x1a2ebd1550>"
      ]
     },
     "execution_count": 54,
     "metadata": {},
     "output_type": "execute_result"
    },
    {
     "data": {
      "image/png": "[encoded data removed]",
      "text/plain": [
       "<Figure size 432x288 with 1 Axes>"
      ]
     },
     "metadata": {},
     "output_type": "display_data"
    }
   ],
   "source": [
    "sns.countplot(data=dp, x='method')"
   ]
  },
  {
   "cell_type": "code",
   "execution_count": 59,
   "metadata": {},
   "outputs": [],
   "source": [
    "x=dp.groupby(by='method').count()['url']"
   ]
  },
  {
   "cell_type": "code",
   "execution_count": 57,
   "metadata": {},
   "outputs": [
    {
     "data": {
      "text/html": [
       "<div>\n",
       "<style scoped>\n",
       "    .dataframe tbody tr th:only-of-type {\n",
       "        vertical-align: middle;\n",
       "    }\n",
       "\n",
       "    .dataframe tbody tr th {\n",
       "        vertical-align: top;\n",
       "    }\n",
       "\n",
       "    .dataframe thead th {\n",
       "        text-align: right;\n",
       "    }\n",
       "</style>\n",
       "<table border=\"1\" class=\"dataframe\">\n",
       "  <thead>\n",
       "    <tr style=\"text-align: right;\">\n",
       "      <th></th>\n",
       "      <th>method</th>\n",
       "      <th>url</th>\n",
       "      <th>httpcode</th>\n",
       "      <th>timeused</th>\n",
       "    </tr>\n",
       "    <tr>\n",
       "      <th>timestamp</th>\n",
       "      <th></th>\n",
       "      <th></th>\n",
       "      <th></th>\n",
       "      <th></th>\n",
       "    </tr>\n",
       "  </thead>\n",
       "  <tbody>\n",
       "    <tr>\n",
       "      <th>2018-12-20 00:00:00</th>\n",
       "      <td>GET</td>\n",
       "      <td>communication-preferences</td>\n",
       "      <td>200</td>\n",
       "      <td>66</td>\n",
       "    </tr>\n",
       "    <tr>\n",
       "      <th>2018-12-20 00:00:00</th>\n",
       "      <td>GET</td>\n",
       "      <td>communication-preferences</td>\n",
       "      <td>200</td>\n",
       "      <td>41</td>\n",
       "    </tr>\n",
       "    <tr>\n",
       "      <th>2018-12-20 00:00:00</th>\n",
       "      <td>GET</td>\n",
       "      <td>communication-preferences</td>\n",
       "      <td>200</td>\n",
       "      <td>30</td>\n",
       "    </tr>\n",
       "    <tr>\n",
       "      <th>2018-12-20 00:00:00</th>\n",
       "      <td>GET</td>\n",
       "      <td>communication-preferences</td>\n",
       "      <td>200</td>\n",
       "      <td>41</td>\n",
       "    </tr>\n",
       "    <tr>\n",
       "      <th>2018-12-20 00:00:01</th>\n",
       "      <td>GET</td>\n",
       "      <td>communication-preferences</td>\n",
       "      <td>200</td>\n",
       "      <td>38</td>\n",
       "    </tr>\n",
       "  </tbody>\n",
       "</table>\n",
       "</div>"
      ],
      "text/plain": [
       "                    method                        url httpcode  timeused\n",
       "timestamp                                                               \n",
       "2018-12-20 00:00:00    GET  communication-preferences      200        66\n",
       "2018-12-20 00:00:00    GET  communication-preferences      200        41\n",
       "2018-12-20 00:00:00    GET  communication-preferences      200        30\n",
       "2018-12-20 00:00:00    GET  communication-preferences      200        41\n",
       "2018-12-20 00:00:01    GET  communication-preferences      200        38"
      ]
     },
     "execution_count": 57,
     "metadata": {},
     "output_type": "execute_result"
    }
   ],
   "source": [
    "dp.head()"
   ]
  },
  {
   "cell_type": "code",
   "execution_count": 66,
   "metadata": {},
   "outputs": [
    {
     "data": {
      "text/html": [
       "<div>\n",
       "<style scoped>\n",
       "    .dataframe tbody tr th:only-of-type {\n",
       "        vertical-align: middle;\n",
       "    }\n",
       "\n",
       "    .dataframe tbody tr th {\n",
       "        vertical-align: top;\n",
       "    }\n",
       "\n",
       "    .dataframe thead tr th {\n",
       "        text-align: left;\n",
       "    }\n",
       "\n",
       "    .dataframe thead tr:last-of-type th {\n",
       "        text-align: right;\n",
       "    }\n",
       "</style>\n",
       "<table border=\"1\" class=\"dataframe\">\n",
       "  <thead>\n",
       "    <tr>\n",
       "      <th></th>\n",
       "      <th colspan=\"8\" halign=\"left\">timeused</th>\n",
       "    </tr>\n",
       "    <tr>\n",
       "      <th></th>\n",
       "      <th>count</th>\n",
       "      <th>mean</th>\n",
       "      <th>std</th>\n",
       "      <th>min</th>\n",
       "      <th>25%</th>\n",
       "      <th>50%</th>\n",
       "      <th>75%</th>\n",
       "      <th>max</th>\n",
       "    </tr>\n",
       "    <tr>\n",
       "      <th>method</th>\n",
       "      <th></th>\n",
       "      <th></th>\n",
       "      <th></th>\n",
       "      <th></th>\n",
       "      <th></th>\n",
       "      <th></th>\n",
       "      <th></th>\n",
       "      <th></th>\n",
       "    </tr>\n",
       "  </thead>\n",
       "  <tbody>\n",
       "    <tr>\n",
       "      <th>GET</th>\n",
       "      <td>2629281.0</td>\n",
       "      <td>47.109804</td>\n",
       "      <td>667.076675</td>\n",
       "      <td>1.0</td>\n",
       "      <td>26.0</td>\n",
       "      <td>29.0</td>\n",
       "      <td>34.0</td>\n",
       "      <td>39925.0</td>\n",
       "    </tr>\n",
       "    <tr>\n",
       "      <th>POST</th>\n",
       "      <td>24887.0</td>\n",
       "      <td>9.259694</td>\n",
       "      <td>5.056288</td>\n",
       "      <td>2.0</td>\n",
       "      <td>6.0</td>\n",
       "      <td>8.0</td>\n",
       "      <td>11.0</td>\n",
       "      <td>236.0</td>\n",
       "    </tr>\n",
       "    <tr>\n",
       "      <th>PUT</th>\n",
       "      <td>20477.0</td>\n",
       "      <td>25.794452</td>\n",
       "      <td>437.956093</td>\n",
       "      <td>3.0</td>\n",
       "      <td>9.0</td>\n",
       "      <td>11.0</td>\n",
       "      <td>14.0</td>\n",
       "      <td>19021.0</td>\n",
       "    </tr>\n",
       "  </tbody>\n",
       "</table>\n",
       "</div>"
      ],
      "text/plain": [
       "         timeused                                                       \n",
       "            count       mean         std  min   25%   50%   75%      max\n",
       "method                                                                  \n",
       "GET     2629281.0  47.109804  667.076675  1.0  26.0  29.0  34.0  39925.0\n",
       "POST      24887.0   9.259694    5.056288  2.0   6.0   8.0  11.0    236.0\n",
       "PUT       20477.0  25.794452  437.956093  3.0   9.0  11.0  14.0  19021.0"
      ]
     },
     "execution_count": 66,
     "metadata": {},
     "output_type": "execute_result"
    }
   ],
   "source": [
    "dp.groupby('method').describe()"
   ]
  },
  {
   "cell_type": "code",
   "execution_count": 65,
   "metadata": {},
   "outputs": [
    {
     "data": {
      "text/plain": [
       "method\n",
       "GET     2629281\n",
       "POST      24887\n",
       "PUT       20477\n",
       "Name: url, dtype: int64"
      ]
     },
     "execution_count": 65,
     "metadata": {},
     "output_type": "execute_result"
    }
   ],
   "source": [
    "x"
   ]
  },
  {
   "cell_type": "code",
   "execution_count": 69,
   "metadata": {},
   "outputs": [
    {
     "data": {
      "text/plain": [
       "<matplotlib.axes._subplots.AxesSubplot at 0x1a3c35d6d8>"
      ]
     },
     "execution_count": 69,
     "metadata": {},
     "output_type": "execute_result"
    },
    {
     "data": {
      "image/png": "[encoded data removed]",
      "text/plain": [
       "<Figure size 432x288 with 1 Axes>"
      ]
     },
     "metadata": {},
     "output_type": "display_data"
    }
   ],
   "source": [
    "dp['timeused'].hist(bins=50)"
   ]
  },
  {
   "cell_type": "code",
   "execution_count": null,
   "metadata": {},
   "outputs": [],
   "source": []
  }
 ],
 "metadata": {
  "kernelspec": {
   "display_name": "Python 3",
   "language": "python",
   "name": "python3"
  },
  "language_info": {
   "codemirror_mode": {
    "name": "ipython",
    "version": 3
   },
   "file_extension": ".py",
   "mimetype": "text/x-python",
   "name": "python",
   "nbconvert_exporter": "python",
   "pygments_lexer": "ipython3",
   "version": "3.7.0"
  }
 },
 "nbformat": 4,
 "nbformat_minor": 2
}
